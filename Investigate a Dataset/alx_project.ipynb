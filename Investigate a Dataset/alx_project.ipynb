{
 "cells": [
  {
   "cell_type": "markdown",
   "id": "30e46673",
   "metadata": {},
   "source": [
    "# Project: Investigate a Dataset - [No-show Appointments]\n",
    "\n",
    "## Table of Contents\n",
    "<ul>\n",
    "<li><a href=\"#intro\">Introduction</a></li>\n",
    "<li><a href=\"#wrangling\">Data Wrangling</a></li>\n",
    "<li><a href=\"#eda\">Exploratory Data Analysis</a></li>\n",
    "<li><a href=\"#conclusions\">Conclusions</a></li>\n",
    "</ul>"
   ]
  },
  {
   "cell_type": "markdown",
   "id": "322b6bc5",
   "metadata": {},
   "source": [
    "<a id='intro'></a>\n",
    "## Introduction\n",
    "\n",
    "### Dataset Description \n",
    "\n",
    "> This dataset contains the medical info of **62,299** patients and **110,527** appointments in various cities of Brazil. The dataset is focused on whether or not patients always honour the appointments set with the hospital and the various variables that affect it.\n",
    "\n",
    ">The dataset contained the following columns:</br>\n",
    "**PatientID**: An ID unique to every individual that comes to a hospital.</br>\n",
    "**AppointmentID**: An ID unique to every appointment in the hospital.</br>\n",
    "**Gender**: M or F </br>\n",
    "**ScheduledDay**: The day the appoinment was scheduled.</br>\n",
    "**Appointment Day**: The day of the appointment.</br>\n",
    "**Age**: How old the patient is.</br>\n",
    "**Neighbourhood**: Location of the hospital.</br>\n",
    "**Scholarship**: Financial aid to poor Brazilian families</br>\n",
    "**Hypertension**: 0 or 1, stands for False or True.</br>\n",
    "**Diabetes**: 0 or 1, stands for False or True.</br>\n",
    "**Alcoholism**: 0 or 1, stands for False or True.</br>\n",
    "**Handcap**: 0 or 1, stands for False or True.</br>\n",
    "**SMS_received**: 0 or 1, stands for False or True.</br>\n",
    "**No_show**: No or Yes, No stands for if the appointment was honoured and vice versa</br>\n",
    "\n",
    "\n",
    "\n",
    "### Question(s) for Analysis\n",
    "<ul>\n",
    "    <li><a href=\"#ques1\"><b>Question One</b></a></li>\n",
    "    What is the ratio of hounoured appointments to the ones that were not honoured?\n",
    "<li><a href=\"#ques2\"><b>Question Two</b></a></li>\n",
    "    How many Males and Female patients were taken into consideration?\n",
    "<li><a href=\"#ques3\"><b>Question Three</b></a></li>\n",
    "    In men and women, who tend to have have more appointments?\n",
    "<li><a href=\"#ques4\"><b>Question Four</b></a></li>\n",
    "    What category of Age misses their appointments the more?\n",
    "<li><a href=\"#ques5\"><b>Question Five</b></a></li>\n",
    "    Is the SMS sending really effective?\n",
    "</ul>"
   ]
  },
  {
   "cell_type": "code",
   "execution_count": 5,
   "id": "1b18d069",
   "metadata": {},
   "outputs": [],
   "source": [
    "import numpy as np\n",
    "import pandas as pd\n",
    "import matplotlib.pyplot as plt\n",
    "import seaborn as sns\n",
    "%matplotlib inline"
   ]
  },
  {
   "cell_type": "markdown",
   "id": "a38e6234",
   "metadata": {},
   "source": [
    "<a id='wrangling'></a>\n",
    "## Data Wrangling"
   ]
  },
  {
   "cell_type": "code",
   "execution_count": 6,
   "id": "4e44dbad",
   "metadata": {},
   "outputs": [
    {
     "data": {
      "text/html": [
       "<div>\n",
       "<style scoped>\n",
       "    .dataframe tbody tr th:only-of-type {\n",
       "        vertical-align: middle;\n",
       "    }\n",
       "\n",
       "    .dataframe tbody tr th {\n",
       "        vertical-align: top;\n",
       "    }\n",
       "\n",
       "    .dataframe thead th {\n",
       "        text-align: right;\n",
       "    }\n",
       "</style>\n",
       "<table border=\"1\" class=\"dataframe\">\n",
       "  <thead>\n",
       "    <tr style=\"text-align: right;\">\n",
       "      <th></th>\n",
       "      <th>PatientId</th>\n",
       "      <th>AppointmentID</th>\n",
       "      <th>Gender</th>\n",
       "      <th>ScheduledDay</th>\n",
       "      <th>AppointmentDay</th>\n",
       "      <th>Age</th>\n",
       "      <th>Neighbourhood</th>\n",
       "      <th>Scholarship</th>\n",
       "      <th>Hipertension</th>\n",
       "      <th>Diabetes</th>\n",
       "      <th>Alcoholism</th>\n",
       "      <th>Handcap</th>\n",
       "      <th>SMS_received</th>\n",
       "      <th>No-show</th>\n",
       "    </tr>\n",
       "  </thead>\n",
       "  <tbody>\n",
       "    <tr>\n",
       "      <th>0</th>\n",
       "      <td>2.987250e+13</td>\n",
       "      <td>5642903</td>\n",
       "      <td>F</td>\n",
       "      <td>2016-04-29T18:38:08Z</td>\n",
       "      <td>2016-04-29T00:00:00Z</td>\n",
       "      <td>62</td>\n",
       "      <td>JARDIM DA PENHA</td>\n",
       "      <td>0</td>\n",
       "      <td>1</td>\n",
       "      <td>0</td>\n",
       "      <td>0</td>\n",
       "      <td>0</td>\n",
       "      <td>0</td>\n",
       "      <td>No</td>\n",
       "    </tr>\n",
       "    <tr>\n",
       "      <th>1</th>\n",
       "      <td>5.589978e+14</td>\n",
       "      <td>5642503</td>\n",
       "      <td>M</td>\n",
       "      <td>2016-04-29T16:08:27Z</td>\n",
       "      <td>2016-04-29T00:00:00Z</td>\n",
       "      <td>56</td>\n",
       "      <td>JARDIM DA PENHA</td>\n",
       "      <td>0</td>\n",
       "      <td>0</td>\n",
       "      <td>0</td>\n",
       "      <td>0</td>\n",
       "      <td>0</td>\n",
       "      <td>0</td>\n",
       "      <td>No</td>\n",
       "    </tr>\n",
       "    <tr>\n",
       "      <th>2</th>\n",
       "      <td>4.262962e+12</td>\n",
       "      <td>5642549</td>\n",
       "      <td>F</td>\n",
       "      <td>2016-04-29T16:19:04Z</td>\n",
       "      <td>2016-04-29T00:00:00Z</td>\n",
       "      <td>62</td>\n",
       "      <td>MATA DA PRAIA</td>\n",
       "      <td>0</td>\n",
       "      <td>0</td>\n",
       "      <td>0</td>\n",
       "      <td>0</td>\n",
       "      <td>0</td>\n",
       "      <td>0</td>\n",
       "      <td>No</td>\n",
       "    </tr>\n",
       "    <tr>\n",
       "      <th>3</th>\n",
       "      <td>8.679512e+11</td>\n",
       "      <td>5642828</td>\n",
       "      <td>F</td>\n",
       "      <td>2016-04-29T17:29:31Z</td>\n",
       "      <td>2016-04-29T00:00:00Z</td>\n",
       "      <td>8</td>\n",
       "      <td>PONTAL DE CAMBURI</td>\n",
       "      <td>0</td>\n",
       "      <td>0</td>\n",
       "      <td>0</td>\n",
       "      <td>0</td>\n",
       "      <td>0</td>\n",
       "      <td>0</td>\n",
       "      <td>No</td>\n",
       "    </tr>\n",
       "    <tr>\n",
       "      <th>4</th>\n",
       "      <td>8.841186e+12</td>\n",
       "      <td>5642494</td>\n",
       "      <td>F</td>\n",
       "      <td>2016-04-29T16:07:23Z</td>\n",
       "      <td>2016-04-29T00:00:00Z</td>\n",
       "      <td>56</td>\n",
       "      <td>JARDIM DA PENHA</td>\n",
       "      <td>0</td>\n",
       "      <td>1</td>\n",
       "      <td>1</td>\n",
       "      <td>0</td>\n",
       "      <td>0</td>\n",
       "      <td>0</td>\n",
       "      <td>No</td>\n",
       "    </tr>\n",
       "  </tbody>\n",
       "</table>\n",
       "</div>"
      ],
      "text/plain": [
       "      PatientId  AppointmentID Gender          ScheduledDay  \\\n",
       "0  2.987250e+13        5642903      F  2016-04-29T18:38:08Z   \n",
       "1  5.589978e+14        5642503      M  2016-04-29T16:08:27Z   \n",
       "2  4.262962e+12        5642549      F  2016-04-29T16:19:04Z   \n",
       "3  8.679512e+11        5642828      F  2016-04-29T17:29:31Z   \n",
       "4  8.841186e+12        5642494      F  2016-04-29T16:07:23Z   \n",
       "\n",
       "         AppointmentDay  Age      Neighbourhood  Scholarship  Hipertension  \\\n",
       "0  2016-04-29T00:00:00Z   62    JARDIM DA PENHA            0             1   \n",
       "1  2016-04-29T00:00:00Z   56    JARDIM DA PENHA            0             0   \n",
       "2  2016-04-29T00:00:00Z   62      MATA DA PRAIA            0             0   \n",
       "3  2016-04-29T00:00:00Z    8  PONTAL DE CAMBURI            0             0   \n",
       "4  2016-04-29T00:00:00Z   56    JARDIM DA PENHA            0             1   \n",
       "\n",
       "   Diabetes  Alcoholism  Handcap  SMS_received No-show  \n",
       "0         0           0        0             0      No  \n",
       "1         0           0        0             0      No  \n",
       "2         0           0        0             0      No  \n",
       "3         0           0        0             0      No  \n",
       "4         1           0        0             0      No  "
      ]
     },
     "execution_count": 6,
     "metadata": {},
     "output_type": "execute_result"
    }
   ],
   "source": [
    "df=pd.read_csv('noshowappointments-kagglev2-may-2016.csv')\n",
    "df.head()"
   ]
  },
  {
   "cell_type": "code",
   "execution_count": 7,
   "id": "50b4b2bd",
   "metadata": {},
   "outputs": [
    {
     "name": "stdout",
     "output_type": "stream",
     "text": [
      "<class 'pandas.core.frame.DataFrame'>\n",
      "RangeIndex: 110527 entries, 0 to 110526\n",
      "Data columns (total 14 columns):\n",
      " #   Column          Non-Null Count   Dtype  \n",
      "---  ------          --------------   -----  \n",
      " 0   PatientId       110527 non-null  float64\n",
      " 1   AppointmentID   110527 non-null  int64  \n",
      " 2   Gender          110527 non-null  object \n",
      " 3   ScheduledDay    110527 non-null  object \n",
      " 4   AppointmentDay  110527 non-null  object \n",
      " 5   Age             110527 non-null  int64  \n",
      " 6   Neighbourhood   110527 non-null  object \n",
      " 7   Scholarship     110527 non-null  int64  \n",
      " 8   Hipertension    110527 non-null  int64  \n",
      " 9   Diabetes        110527 non-null  int64  \n",
      " 10  Alcoholism      110527 non-null  int64  \n",
      " 11  Handcap         110527 non-null  int64  \n",
      " 12  SMS_received    110527 non-null  int64  \n",
      " 13  No-show         110527 non-null  object \n",
      "dtypes: float64(1), int64(8), object(5)\n",
      "memory usage: 11.8+ MB\n"
     ]
    }
   ],
   "source": [
    "# From the below line of code, there is no missing value and the column types are okay \n",
    "df.info()"
   ]
  },
  {
   "cell_type": "code",
   "execution_count": 8,
   "id": "23cbda6d",
   "metadata": {},
   "outputs": [
    {
     "data": {
      "text/plain": [
       "0"
      ]
     },
     "execution_count": 8,
     "metadata": {},
     "output_type": "execute_result"
    }
   ],
   "source": [
    "# Checking for duplicate data, there is none\n",
    "sum(df.duplicated())"
   ]
  },
  {
   "cell_type": "code",
   "execution_count": 9,
   "id": "5bdcd9f0",
   "metadata": {},
   "outputs": [
    {
     "data": {
      "text/plain": [
       "(110527, 14)"
      ]
     },
     "execution_count": 9,
     "metadata": {},
     "output_type": "execute_result"
    }
   ],
   "source": [
    "# There are 14 columns and 110527 instances\n",
    "df.shape"
   ]
  },
  {
   "cell_type": "code",
   "execution_count": 10,
   "id": "da1d8c45",
   "metadata": {},
   "outputs": [
    {
     "data": {
      "text/html": [
       "<div>\n",
       "<style scoped>\n",
       "    .dataframe tbody tr th:only-of-type {\n",
       "        vertical-align: middle;\n",
       "    }\n",
       "\n",
       "    .dataframe tbody tr th {\n",
       "        vertical-align: top;\n",
       "    }\n",
       "\n",
       "    .dataframe thead th {\n",
       "        text-align: right;\n",
       "    }\n",
       "</style>\n",
       "<table border=\"1\" class=\"dataframe\">\n",
       "  <thead>\n",
       "    <tr style=\"text-align: right;\">\n",
       "      <th></th>\n",
       "      <th>PatientId</th>\n",
       "      <th>AppointmentID</th>\n",
       "      <th>Age</th>\n",
       "      <th>Scholarship</th>\n",
       "      <th>Hipertension</th>\n",
       "      <th>Diabetes</th>\n",
       "      <th>Alcoholism</th>\n",
       "      <th>Handcap</th>\n",
       "      <th>SMS_received</th>\n",
       "    </tr>\n",
       "  </thead>\n",
       "  <tbody>\n",
       "    <tr>\n",
       "      <th>count</th>\n",
       "      <td>1.105270e+05</td>\n",
       "      <td>1.105270e+05</td>\n",
       "      <td>110527.000000</td>\n",
       "      <td>110527.000000</td>\n",
       "      <td>110527.000000</td>\n",
       "      <td>110527.000000</td>\n",
       "      <td>110527.000000</td>\n",
       "      <td>110527.000000</td>\n",
       "      <td>110527.000000</td>\n",
       "    </tr>\n",
       "    <tr>\n",
       "      <th>mean</th>\n",
       "      <td>1.474963e+14</td>\n",
       "      <td>5.675305e+06</td>\n",
       "      <td>37.088874</td>\n",
       "      <td>0.098266</td>\n",
       "      <td>0.197246</td>\n",
       "      <td>0.071865</td>\n",
       "      <td>0.030400</td>\n",
       "      <td>0.022248</td>\n",
       "      <td>0.321026</td>\n",
       "    </tr>\n",
       "    <tr>\n",
       "      <th>std</th>\n",
       "      <td>2.560949e+14</td>\n",
       "      <td>7.129575e+04</td>\n",
       "      <td>23.110205</td>\n",
       "      <td>0.297675</td>\n",
       "      <td>0.397921</td>\n",
       "      <td>0.258265</td>\n",
       "      <td>0.171686</td>\n",
       "      <td>0.161543</td>\n",
       "      <td>0.466873</td>\n",
       "    </tr>\n",
       "    <tr>\n",
       "      <th>min</th>\n",
       "      <td>3.921784e+04</td>\n",
       "      <td>5.030230e+06</td>\n",
       "      <td>-1.000000</td>\n",
       "      <td>0.000000</td>\n",
       "      <td>0.000000</td>\n",
       "      <td>0.000000</td>\n",
       "      <td>0.000000</td>\n",
       "      <td>0.000000</td>\n",
       "      <td>0.000000</td>\n",
       "    </tr>\n",
       "    <tr>\n",
       "      <th>25%</th>\n",
       "      <td>4.172614e+12</td>\n",
       "      <td>5.640286e+06</td>\n",
       "      <td>18.000000</td>\n",
       "      <td>0.000000</td>\n",
       "      <td>0.000000</td>\n",
       "      <td>0.000000</td>\n",
       "      <td>0.000000</td>\n",
       "      <td>0.000000</td>\n",
       "      <td>0.000000</td>\n",
       "    </tr>\n",
       "    <tr>\n",
       "      <th>50%</th>\n",
       "      <td>3.173184e+13</td>\n",
       "      <td>5.680573e+06</td>\n",
       "      <td>37.000000</td>\n",
       "      <td>0.000000</td>\n",
       "      <td>0.000000</td>\n",
       "      <td>0.000000</td>\n",
       "      <td>0.000000</td>\n",
       "      <td>0.000000</td>\n",
       "      <td>0.000000</td>\n",
       "    </tr>\n",
       "    <tr>\n",
       "      <th>75%</th>\n",
       "      <td>9.439172e+13</td>\n",
       "      <td>5.725524e+06</td>\n",
       "      <td>55.000000</td>\n",
       "      <td>0.000000</td>\n",
       "      <td>0.000000</td>\n",
       "      <td>0.000000</td>\n",
       "      <td>0.000000</td>\n",
       "      <td>0.000000</td>\n",
       "      <td>1.000000</td>\n",
       "    </tr>\n",
       "    <tr>\n",
       "      <th>max</th>\n",
       "      <td>9.999816e+14</td>\n",
       "      <td>5.790484e+06</td>\n",
       "      <td>115.000000</td>\n",
       "      <td>1.000000</td>\n",
       "      <td>1.000000</td>\n",
       "      <td>1.000000</td>\n",
       "      <td>1.000000</td>\n",
       "      <td>4.000000</td>\n",
       "      <td>1.000000</td>\n",
       "    </tr>\n",
       "  </tbody>\n",
       "</table>\n",
       "</div>"
      ],
      "text/plain": [
       "          PatientId  AppointmentID            Age    Scholarship  \\\n",
       "count  1.105270e+05   1.105270e+05  110527.000000  110527.000000   \n",
       "mean   1.474963e+14   5.675305e+06      37.088874       0.098266   \n",
       "std    2.560949e+14   7.129575e+04      23.110205       0.297675   \n",
       "min    3.921784e+04   5.030230e+06      -1.000000       0.000000   \n",
       "25%    4.172614e+12   5.640286e+06      18.000000       0.000000   \n",
       "50%    3.173184e+13   5.680573e+06      37.000000       0.000000   \n",
       "75%    9.439172e+13   5.725524e+06      55.000000       0.000000   \n",
       "max    9.999816e+14   5.790484e+06     115.000000       1.000000   \n",
       "\n",
       "        Hipertension       Diabetes     Alcoholism        Handcap  \\\n",
       "count  110527.000000  110527.000000  110527.000000  110527.000000   \n",
       "mean        0.197246       0.071865       0.030400       0.022248   \n",
       "std         0.397921       0.258265       0.171686       0.161543   \n",
       "min         0.000000       0.000000       0.000000       0.000000   \n",
       "25%         0.000000       0.000000       0.000000       0.000000   \n",
       "50%         0.000000       0.000000       0.000000       0.000000   \n",
       "75%         0.000000       0.000000       0.000000       0.000000   \n",
       "max         1.000000       1.000000       1.000000       4.000000   \n",
       "\n",
       "        SMS_received  \n",
       "count  110527.000000  \n",
       "mean        0.321026  \n",
       "std         0.466873  \n",
       "min         0.000000  \n",
       "25%         0.000000  \n",
       "50%         0.000000  \n",
       "75%         1.000000  \n",
       "max         1.000000  "
      ]
     },
     "execution_count": 10,
     "metadata": {},
     "output_type": "execute_result"
    }
   ],
   "source": [
    "df.describe()"
   ]
  },
  {
   "cell_type": "markdown",
   "id": "70051db1",
   "metadata": {},
   "source": [
    "There are some issues with the Age and Handcap column. The Age has negative figures and Handcap has figure(s) more than 1.</br>\n",
    "It would be worked on in the next module."
   ]
  },
  {
   "cell_type": "markdown",
   "id": "21530dce",
   "metadata": {},
   "source": [
    "### Data Cleaning"
   ]
  },
  {
   "cell_type": "markdown",
   "id": "3988c65f",
   "metadata": {},
   "source": [
    "There might be a problem in the Age column. The minimum age there has a value of -1 which is not possible.</br>\n",
    "Do we drop the whole row or first check if it is a mistake?</br>\n",
    "How many rows have this error even?"
   ]
  },
  {
   "cell_type": "code",
   "execution_count": 11,
   "id": "2e5d5979",
   "metadata": {},
   "outputs": [
    {
     "data": {
      "text/html": [
       "<div>\n",
       "<style scoped>\n",
       "    .dataframe tbody tr th:only-of-type {\n",
       "        vertical-align: middle;\n",
       "    }\n",
       "\n",
       "    .dataframe tbody tr th {\n",
       "        vertical-align: top;\n",
       "    }\n",
       "\n",
       "    .dataframe thead th {\n",
       "        text-align: right;\n",
       "    }\n",
       "</style>\n",
       "<table border=\"1\" class=\"dataframe\">\n",
       "  <thead>\n",
       "    <tr style=\"text-align: right;\">\n",
       "      <th></th>\n",
       "      <th>PatientId</th>\n",
       "      <th>AppointmentID</th>\n",
       "      <th>Gender</th>\n",
       "      <th>ScheduledDay</th>\n",
       "      <th>AppointmentDay</th>\n",
       "      <th>Age</th>\n",
       "      <th>Neighbourhood</th>\n",
       "      <th>Scholarship</th>\n",
       "      <th>Hipertension</th>\n",
       "      <th>Diabetes</th>\n",
       "      <th>Alcoholism</th>\n",
       "      <th>Handcap</th>\n",
       "      <th>SMS_received</th>\n",
       "      <th>No-show</th>\n",
       "    </tr>\n",
       "  </thead>\n",
       "  <tbody>\n",
       "    <tr>\n",
       "      <th>99832</th>\n",
       "      <td>4.659432e+14</td>\n",
       "      <td>5775010</td>\n",
       "      <td>F</td>\n",
       "      <td>2016-06-06T08:58:13Z</td>\n",
       "      <td>2016-06-06T00:00:00Z</td>\n",
       "      <td>-1</td>\n",
       "      <td>ROMÃO</td>\n",
       "      <td>0</td>\n",
       "      <td>0</td>\n",
       "      <td>0</td>\n",
       "      <td>0</td>\n",
       "      <td>0</td>\n",
       "      <td>0</td>\n",
       "      <td>No</td>\n",
       "    </tr>\n",
       "  </tbody>\n",
       "</table>\n",
       "</div>"
      ],
      "text/plain": [
       "          PatientId  AppointmentID Gender          ScheduledDay  \\\n",
       "99832  4.659432e+14        5775010      F  2016-06-06T08:58:13Z   \n",
       "\n",
       "             AppointmentDay  Age Neighbourhood  Scholarship  Hipertension  \\\n",
       "99832  2016-06-06T00:00:00Z   -1         ROMÃO            0             0   \n",
       "\n",
       "       Diabetes  Alcoholism  Handcap  SMS_received No-show  \n",
       "99832         0           0        0             0      No  "
      ]
     },
     "execution_count": 11,
     "metadata": {},
     "output_type": "execute_result"
    }
   ],
   "source": [
    "# Thankfully, only one row has the age as a negative number\n",
    "df.query('Age==-1')"
   ]
  },
  {
   "cell_type": "markdown",
   "id": "39d5e67a",
   "metadata": {},
   "source": [
    "I first check if the \"PatientId\" of '4.659432e+14' repeats itself to know who that false age belongs to."
   ]
  },
  {
   "cell_type": "code",
   "execution_count": 12,
   "id": "ed2a8edb",
   "metadata": {},
   "outputs": [],
   "source": [
    "# abnormal_patient_age_id is the 'PatientId' of the above df\n",
    "abnormal_patient_age_id=df.query('Age==-1').iloc[0,0]"
   ]
  },
  {
   "cell_type": "code",
   "execution_count": 13,
   "id": "ff6709f0",
   "metadata": {},
   "outputs": [
    {
     "data": {
      "text/html": [
       "<div>\n",
       "<style scoped>\n",
       "    .dataframe tbody tr th:only-of-type {\n",
       "        vertical-align: middle;\n",
       "    }\n",
       "\n",
       "    .dataframe tbody tr th {\n",
       "        vertical-align: top;\n",
       "    }\n",
       "\n",
       "    .dataframe thead th {\n",
       "        text-align: right;\n",
       "    }\n",
       "</style>\n",
       "<table border=\"1\" class=\"dataframe\">\n",
       "  <thead>\n",
       "    <tr style=\"text-align: right;\">\n",
       "      <th></th>\n",
       "      <th>PatientId</th>\n",
       "      <th>AppointmentID</th>\n",
       "      <th>Gender</th>\n",
       "      <th>ScheduledDay</th>\n",
       "      <th>AppointmentDay</th>\n",
       "      <th>Age</th>\n",
       "      <th>Neighbourhood</th>\n",
       "      <th>Scholarship</th>\n",
       "      <th>Hipertension</th>\n",
       "      <th>Diabetes</th>\n",
       "      <th>Alcoholism</th>\n",
       "      <th>Handcap</th>\n",
       "      <th>SMS_received</th>\n",
       "      <th>No-show</th>\n",
       "    </tr>\n",
       "  </thead>\n",
       "  <tbody>\n",
       "    <tr>\n",
       "      <th>99832</th>\n",
       "      <td>4.659432e+14</td>\n",
       "      <td>5775010</td>\n",
       "      <td>F</td>\n",
       "      <td>2016-06-06T08:58:13Z</td>\n",
       "      <td>2016-06-06T00:00:00Z</td>\n",
       "      <td>-1</td>\n",
       "      <td>ROMÃO</td>\n",
       "      <td>0</td>\n",
       "      <td>0</td>\n",
       "      <td>0</td>\n",
       "      <td>0</td>\n",
       "      <td>0</td>\n",
       "      <td>0</td>\n",
       "      <td>No</td>\n",
       "    </tr>\n",
       "  </tbody>\n",
       "</table>\n",
       "</div>"
      ],
      "text/plain": [
       "          PatientId  AppointmentID Gender          ScheduledDay  \\\n",
       "99832  4.659432e+14        5775010      F  2016-06-06T08:58:13Z   \n",
       "\n",
       "             AppointmentDay  Age Neighbourhood  Scholarship  Hipertension  \\\n",
       "99832  2016-06-06T00:00:00Z   -1         ROMÃO            0             0   \n",
       "\n",
       "       Diabetes  Alcoholism  Handcap  SMS_received No-show  \n",
       "99832         0           0        0             0      No  "
      ]
     },
     "execution_count": 13,
     "metadata": {},
     "output_type": "execute_result"
    }
   ],
   "source": [
    "# In how many rows do we have that 'PatientId'\n",
    "df[df['PatientId']==abnormal_patient_age_id]"
   ]
  },
  {
   "cell_type": "markdown",
   "id": "c26e3be9",
   "metadata": {},
   "source": [
    "Since the patient Id exists only once and the false age does not belong to anyone else in the data.</br>\n",
    "I would drop the row"
   ]
  },
  {
   "cell_type": "code",
   "execution_count": 14,
   "id": "1f917380",
   "metadata": {},
   "outputs": [],
   "source": [
    "df=df.query('Age>=0')"
   ]
  },
  {
   "cell_type": "code",
   "execution_count": 15,
   "id": "b7b7342d",
   "metadata": {},
   "outputs": [],
   "source": [
    "# Renaming the hipertension column and the 'No-show' column respectively\n",
    "df.rename(columns={'Hipertension':'Hypertension'},inplace=True)\n",
    "df.rename(columns=lambda x: x.strip().replace('-', '_'), inplace=True)"
   ]
  },
  {
   "cell_type": "markdown",
   "id": "7bfcf90e",
   "metadata": {},
   "source": [
    "**To make the No_show column easier to work with, I am replacing every 'No' with 0 and every 'Yes' with 1.**"
   ]
  },
  {
   "cell_type": "code",
   "execution_count": 16,
   "id": "cf4ba9cd",
   "metadata": {},
   "outputs": [],
   "source": [
    "df['No_show'].replace(['No','Yes'],[0,1],inplace=True)"
   ]
  },
  {
   "cell_type": "markdown",
   "id": "3ef08f79",
   "metadata": {},
   "source": [
    "**The handicap column has its maximum value as 4, its meant to be just 0 and 1 in that column.**"
   ]
  },
  {
   "cell_type": "code",
   "execution_count": 17,
   "id": "91e3fe0b",
   "metadata": {},
   "outputs": [
    {
     "data": {
      "text/plain": [
       "0    108285\n",
       "1      2042\n",
       "2       183\n",
       "3        13\n",
       "4         3\n",
       "Name: Handcap, dtype: int64"
      ]
     },
     "execution_count": 17,
     "metadata": {},
     "output_type": "execute_result"
    }
   ],
   "source": [
    "df['Handcap'].value_counts()"
   ]
  },
  {
   "cell_type": "code",
   "execution_count": 18,
   "id": "16304500",
   "metadata": {},
   "outputs": [
    {
     "data": {
      "text/plain": [
       "199"
      ]
     },
     "execution_count": 18,
     "metadata": {},
     "output_type": "execute_result"
    }
   ],
   "source": [
    "# Checking the number of 'handcap' values that are above 1\n",
    "df.query('Handcap>1')['Handcap'].count()"
   ]
  },
  {
   "cell_type": "markdown",
   "id": "e33e82e5",
   "metadata": {},
   "source": [
    "Anywhere in the handicap column that does not have a value of 0 would be replaced with 1"
   ]
  },
  {
   "cell_type": "code",
   "execution_count": 19,
   "id": "31c2cb00",
   "metadata": {},
   "outputs": [
    {
     "data": {
      "text/plain": [
       "0    108285\n",
       "1      2241\n",
       "Name: Handcap, dtype: int64"
      ]
     },
     "execution_count": 19,
     "metadata": {},
     "output_type": "execute_result"
    }
   ],
   "source": [
    "df['Handcap']=np.where(df['Handcap']==0,0,1)\n",
    "df['Handcap'].value_counts()"
   ]
  },
  {
   "cell_type": "code",
   "execution_count": 20,
   "id": "bad35cdc",
   "metadata": {},
   "outputs": [
    {
     "data": {
      "text/plain": [
       "array([[<AxesSubplot:title={'center':'PatientId'}>,\n",
       "        <AxesSubplot:title={'center':'AppointmentID'}>,\n",
       "        <AxesSubplot:title={'center':'Age'}>],\n",
       "       [<AxesSubplot:title={'center':'Scholarship'}>,\n",
       "        <AxesSubplot:title={'center':'Hypertension'}>,\n",
       "        <AxesSubplot:title={'center':'Diabetes'}>],\n",
       "       [<AxesSubplot:title={'center':'Alcoholism'}>,\n",
       "        <AxesSubplot:title={'center':'Handcap'}>,\n",
       "        <AxesSubplot:title={'center':'SMS_received'}>],\n",
       "       [<AxesSubplot:title={'center':'No_show'}>, <AxesSubplot:>,\n",
       "        <AxesSubplot:>]], dtype=object)"
      ]
     },
     "execution_count": 20,
     "metadata": {},
     "output_type": "execute_result"
    },
    {
     "data": {
      "image/png": "[encoded data removed]",
      "text/plain": [
       "<Figure size 864x864 with 12 Axes>"
      ]
     },
     "metadata": {
      "needs_background": "light"
     },
     "output_type": "display_data"
    }
   ],
   "source": [
    "# Checking the histogram of all the columns in the df\n",
    "df.hist(figsize=(12,12))"
   ]
  },
  {
   "cell_type": "markdown",
   "id": "80c531f5",
   "metadata": {},
   "source": [
    "<a id='eda'></a>\n",
    "## Exploratory Data Analysis"
   ]
  },
  {
   "cell_type": "markdown",
   "id": "8aa2ac38",
   "metadata": {},
   "source": [
    "<a id='ques1'></a>\n",
    "### Question 1 (What is the ratio of hounoured appointments to the ones that were not honoured?)"
   ]
  },
  {
   "cell_type": "code",
   "execution_count": 21,
   "id": "1988e317",
   "metadata": {},
   "outputs": [],
   "source": [
    "# number of people that showed up, didn't show up and the total number.\n",
    "showed_up=sum(df['No_show']==0)\n",
    "not_showed_up=sum(df['No_show']==1)\n",
    "total=len(df)"
   ]
  },
  {
   "cell_type": "code",
   "execution_count": 22,
   "id": "57f023b3",
   "metadata": {},
   "outputs": [],
   "source": [
    "# percentage of people that show up and did not show up\n",
    "perc_show_up=round(showed_up*100/total,2)\n",
    "perc_not_show_up=round(not_showed_up*100/total,2)"
   ]
  },
  {
   "cell_type": "code",
   "execution_count": 23,
   "id": "619e699b",
   "metadata": {
    "scrolled": false
   },
   "outputs": [
    {
     "name": "stdout",
     "output_type": "stream",
     "text": [
      "79.81% of appointments were honoured, while 20.19% of appointments were not honoured\n"
     ]
    }
   ],
   "source": [
    "print('{}% of appointments were honoured, while {}% of appointments were not honoured'.format(perc_show_up,perc_not_show_up))"
   ]
  },
  {
   "cell_type": "markdown",
   "id": "9fe20c8b",
   "metadata": {},
   "source": [
    "Pie chart of the distribution of the **No_show** column"
   ]
  },
  {
   "cell_type": "code",
   "execution_count": 24,
   "id": "3dc54b42",
   "metadata": {},
   "outputs": [
    {
     "data": {
      "text/plain": [
       "<AxesSubplot:ylabel='No_show'>"
      ]
     },
     "execution_count": 24,
     "metadata": {},
     "output_type": "execute_result"
    },
    {
     "data": {
      "image/png": "[encoded data removed]",
      "text/plain": [
       "<Figure size 576x576 with 1 Axes>"
      ]
     },
     "metadata": {},
     "output_type": "display_data"
    }
   ],
   "source": [
    "df['No_show'].value_counts().plot(kind='pie',figsize=(8,8),labels=[\"Showed up\",\"Did not show up\"],explode=[0,0.1],autopct='%.2f%%',shadow=True)"
   ]
  },
  {
   "cell_type": "markdown",
   "id": "806c6afc",
   "metadata": {},
   "source": [
    "<a id='ques2'></a>\n",
    "### Question 2 (How many Males and Female patients were taken into consideration?)"
   ]
  },
  {
   "cell_type": "markdown",
   "id": "833c0c03",
   "metadata": {},
   "source": [
    "This question does not mean, **how many male and female appointments were scheduled**.</br>\n",
    "Every patient has a unique **PatientId** and can have multiple **AppointmentID.**"
   ]
  },
  {
   "cell_type": "code",
   "execution_count": 25,
   "id": "23fc1518",
   "metadata": {},
   "outputs": [
    {
     "data": {
      "text/plain": [
       "62298"
      ]
     },
     "execution_count": 25,
     "metadata": {},
     "output_type": "execute_result"
    }
   ],
   "source": [
    "# Number of patients (not appointments) in total\n",
    "no_of_patients=df['PatientId'].nunique()\n",
    "no_of_patients"
   ]
  },
  {
   "cell_type": "code",
   "execution_count": 26,
   "id": "1887464f",
   "metadata": {},
   "outputs": [
    {
     "data": {
      "text/plain": [
       "22253"
      ]
     },
     "execution_count": 26,
     "metadata": {},
     "output_type": "execute_result"
    }
   ],
   "source": [
    "# Number of male patients\n",
    "df_male=df.query('Gender==\"M\"')\n",
    "male_count=df_male['PatientId'].nunique()\n",
    "male_count"
   ]
  },
  {
   "cell_type": "code",
   "execution_count": 27,
   "id": "e7f1612c",
   "metadata": {},
   "outputs": [
    {
     "data": {
      "text/plain": [
       "40045"
      ]
     },
     "execution_count": 27,
     "metadata": {},
     "output_type": "execute_result"
    }
   ],
   "source": [
    "# Number of female patients\n",
    "df_female=df.query('Gender==\"F\"')\n",
    "female_count=df_female['PatientId'].nunique()\n",
    "female_count"
   ]
  },
  {
   "cell_type": "code",
   "execution_count": 28,
   "id": "fa083d82",
   "metadata": {},
   "outputs": [
    {
     "data": {
      "image/png": "[encoded data removed]",
      "text/plain": [
       "<Figure size 432x288 with 1 Axes>"
      ]
     },
     "metadata": {
      "needs_background": "light"
     },
     "output_type": "display_data"
    }
   ],
   "source": [
    "# Plotting the number of male and female patients\n",
    "plt.bar(['Male', 'Female'], [male_count,female_count])\n",
    "plt.title(\"Number of Unique Patients\")\n",
    "plt.xlabel(\"Unique Patients\")\n",
    "plt.ylabel(\"Number of Unique Patients\");"
   ]
  },
  {
   "cell_type": "markdown",
   "id": "76f6680b",
   "metadata": {},
   "source": [
    "**Out of 62298 patients, there were 22,253 males and 40,0045 females.**"
   ]
  },
  {
   "cell_type": "markdown",
   "id": "2e8f913a",
   "metadata": {},
   "source": [
    "<a id='ques3'></a>\n",
    "### Question 3 (In male and female, who tend to have have more appointments?)"
   ]
  },
  {
   "cell_type": "markdown",
   "id": "7a886931",
   "metadata": {},
   "source": [
    "We know the number of males and females in the dataset, but do we know if the females would tend to have more hospital appointments?"
   ]
  },
  {
   "cell_type": "code",
   "execution_count": 29,
   "id": "20554ff0",
   "metadata": {},
   "outputs": [
    {
     "data": {
      "text/plain": [
       "38687"
      ]
     },
     "execution_count": 29,
     "metadata": {},
     "output_type": "execute_result"
    }
   ],
   "source": [
    "# number of appointments for a male patient\n",
    "male_app_count=sum(df['Gender']=='M')\n",
    "male_app_count"
   ]
  },
  {
   "cell_type": "code",
   "execution_count": 30,
   "id": "39ff259a",
   "metadata": {},
   "outputs": [
    {
     "data": {
      "text/plain": [
       "71839"
      ]
     },
     "execution_count": 30,
     "metadata": {},
     "output_type": "execute_result"
    }
   ],
   "source": [
    "# number of appointments for a female patient\n",
    "female_app_count=sum(df['Gender']=='F')\n",
    "female_app_count"
   ]
  },
  {
   "cell_type": "code",
   "execution_count": 31,
   "id": "bfd93ba7",
   "metadata": {},
   "outputs": [
    {
     "data": {
      "text/plain": [
       "110526"
      ]
     },
     "execution_count": 31,
     "metadata": {},
     "output_type": "execute_result"
    }
   ],
   "source": [
    "# total appointments\n",
    "total_apps=len(df['AppointmentID'])\n",
    "total_apps"
   ]
  },
  {
   "cell_type": "code",
   "execution_count": 32,
   "id": "41224367",
   "metadata": {},
   "outputs": [],
   "source": [
    "# propotion of male and female patients to the total number of patients\n",
    "male_prop=male_count/no_of_patients\n",
    "female_prop=female_count/no_of_patients"
   ]
  },
  {
   "cell_type": "code",
   "execution_count": 33,
   "id": "b042d11c",
   "metadata": {},
   "outputs": [],
   "source": [
    "# propotion of male and female appointments to the total number of appointments\n",
    "male_app_prop=male_app_count/total_apps\n",
    "female_app_prop=female_app_count/total_apps"
   ]
  },
  {
   "cell_type": "markdown",
   "id": "7834c00b",
   "metadata": {},
   "source": [
    "**A function for plotting a barchart is defined below. It has 7 parameters**\n",
    "<ul>\n",
    "<li>x: A list of numbers that contains the length of the x-axis</li>\n",
    "<li>y: A list of the first bars in each pair</li>\n",
    "<li>z: A list of the second bars in each pair</li>\n",
    "<li>labels: The labels of the plots, separated by a whitespace</li>\n",
    "<li>x_label: Label of the x-axis</li>\n",
    "<li>y_label: Label of the y-axis</li>\n",
    "<li>title: Title of the plot</li>\n",
    "</ul>"
   ]
  },
  {
   "cell_type": "code",
   "execution_count": 34,
   "id": "5cd8e520",
   "metadata": {},
   "outputs": [],
   "source": [
    "def plotbar(x,y,z,labels,x_label,y_label,title):\n",
    "    x_axis=np.arange(len(x))\n",
    "    plt.bar(x_axis - 0.2, y, 0.4, label = labels.split(' ')[0])\n",
    "    plt.bar(x_axis + 0.2, z, 0.4, label = labels.split(' ')[1])\n",
    "    \n",
    "    plt.xticks(x_axis, x)\n",
    "    plt.xlabel(x_label)\n",
    "    plt.ylabel(y_label)\n",
    "    plt.title(title)\n",
    "    plt.legend()"
   ]
  },
  {
   "cell_type": "code",
   "execution_count": 35,
   "id": "e57b6dde",
   "metadata": {},
   "outputs": [
    {
     "data": {
      "image/png": "[encoded data removed]",
      "text/plain": [
       "<Figure size 432x288 with 1 Axes>"
      ]
     },
     "metadata": {
      "needs_background": "light"
     },
     "output_type": "display_data"
    }
   ],
   "source": [
    "plotbar(['Patients','Appointments'],[male_prop,male_app_prop],[female_prop,female_app_prop],'Male Female','Patients/Appointments','Proportion','Proportion vs Patients/Appointments')"
   ]
  },
  {
   "cell_type": "markdown",
   "id": "93acffd7",
   "metadata": {},
   "source": [
    "**From what has been plotted above, there is no visible difference in the rate at which either a male or female schedules an appointment with the doctor**"
   ]
  },
  {
   "cell_type": "markdown",
   "id": "90b497d7",
   "metadata": {},
   "source": [
    "<a id='ques4'></a>\n",
    "### Question 4 (What category of Age misses their appointments the more?)"
   ]
  },
  {
   "cell_type": "code",
   "execution_count": 36,
   "id": "38129617",
   "metadata": {},
   "outputs": [],
   "source": [
    "# Creating 4 different dataframes for different age brackets\n",
    "child_df=df.query('Age<18')\n",
    "youth_df=df.query(\"Age >= 18 and Age < 34\")\n",
    "adults_df=df.query(\"Age >= 35 and Age < 59\")\n",
    "elders_df=df.query('Age>=60')"
   ]
  },
  {
   "cell_type": "code",
   "execution_count": 37,
   "id": "be97df32",
   "metadata": {},
   "outputs": [],
   "source": [
    "# Calculating the RATE at which each age category misses appointments\n",
    "child_mean=child_df['No_show'].mean()\n",
    "youth_mean=youth_df['No_show'].mean()\n",
    "adults_mean=adults_df['No_show'].mean()\n",
    "elders_mean=elders_df['No_show'].mean()"
   ]
  },
  {
   "cell_type": "code",
   "execution_count": 38,
   "id": "db2d0635",
   "metadata": {
    "scrolled": true
   },
   "outputs": [
    {
     "data": {
      "text/plain": [
       "Text(0, 0.5, 'Mean No_show')"
      ]
     },
     "execution_count": 38,
     "metadata": {},
     "output_type": "execute_result"
    },
    {
     "data": {
      "image/png": "[encoded data removed]",
      "text/plain": [
       "<Figure size 432x288 with 1 Axes>"
      ]
     },
     "metadata": {
      "needs_background": "light"
     },
     "output_type": "display_data"
    }
   ],
   "source": [
    "# Bar plot of 'Mean No_show' vs 'Age Category'\n",
    "locations=[1,2,3,4]\n",
    "heights=[child_mean,youth_mean,adults_mean,elders_mean]\n",
    "labels=['Children','Youths','Adults','Elders']\n",
    "plt.bar(locations,heights,tick_label=labels)\n",
    "plt.title('Mean No_show vs Age Category')\n",
    "plt.xlabel('Age Category')\n",
    "plt.ylabel('Mean No_show')"
   ]
  },
  {
   "cell_type": "markdown",
   "id": "d3bd2c96",
   "metadata": {},
   "source": [
    "This plot below is to make the change in values of the y-axis more obvious"
   ]
  },
  {
   "cell_type": "code",
   "execution_count": 39,
   "id": "1d596cff",
   "metadata": {},
   "outputs": [
    {
     "data": {
      "text/plain": [
       "Text(0, 0.5, 'Mean No_show')"
      ]
     },
     "execution_count": 39,
     "metadata": {},
     "output_type": "execute_result"
    },
    {
     "data": {
      "image/png": "[encoded data removed]",
      "text/plain": [
       "<Figure size 432x288 with 1 Axes>"
      ]
     },
     "metadata": {
      "needs_background": "light"
     },
     "output_type": "display_data"
    }
   ],
   "source": [
    "plt.plot(labels,heights)\n",
    "plt.title('Mean No_show vs Age Category')\n",
    "plt.xlabel('Age Category')\n",
    "plt.ylabel('Mean No_show')"
   ]
  },
  {
   "cell_type": "markdown",
   "id": "05bf34f0",
   "metadata": {},
   "source": [
    "**Youths miss their appointments the most, while elders are the group that miss their appointments the least**"
   ]
  },
  {
   "cell_type": "markdown",
   "id": "4383e96a",
   "metadata": {},
   "source": [
    "<a id='ques5'></a>\n",
    "### Question 5 ( Is the SMS sending really effective?)"
   ]
  },
  {
   "cell_type": "code",
   "execution_count": 40,
   "id": "84ca957f",
   "metadata": {},
   "outputs": [],
   "source": [
    "# creating a dataframe for SMS received\n",
    "df_sms=df[df['SMS_received']==1]"
   ]
  },
  {
   "cell_type": "code",
   "execution_count": 41,
   "id": "8551e713",
   "metadata": {},
   "outputs": [],
   "source": [
    "# from the above df, separate into appointment honoured and not honoured and get the frequency of each\n",
    "sms_came=sum(df_sms['No_show']==0)\n",
    "sms_no_come=sum(df_sms['No_show']==1)"
   ]
  },
  {
   "cell_type": "code",
   "execution_count": 42,
   "id": "8e8b7e6f",
   "metadata": {},
   "outputs": [],
   "source": [
    "# creating a dataframe for NO_SMS received\n",
    "df_no_sms=df[df['SMS_received']==0]"
   ]
  },
  {
   "cell_type": "code",
   "execution_count": 43,
   "id": "729980dc",
   "metadata": {},
   "outputs": [],
   "source": [
    "# from the above df, separate into appointment honoured and not honouredand and get the frequency of each\n",
    "no_sms_came=sum(df_no_sms['No_show']==0)\n",
    "no_sms_no_come=sum(df_no_sms['No_show']==1)"
   ]
  },
  {
   "cell_type": "markdown",
   "id": "a8fc40ff",
   "metadata": {},
   "source": [
    "**Reusing the 'plotbar' function**"
   ]
  },
  {
   "cell_type": "markdown",
   "id": "40b9f60c",
   "metadata": {},
   "source": [
    "The first couple of bars tells the 'showing up' and 'not showing up' when they receive an SMS.\n",
    "The second couple of bars also tells 'showing up' and 'not showing up' but when no SMS is received."
   ]
  },
  {
   "cell_type": "code",
   "execution_count": 44,
   "id": "33c0765d",
   "metadata": {},
   "outputs": [
    {
     "data": {
      "image/png": "[encoded data removed]",
      "text/plain": [
       "<Figure size 432x288 with 1 Axes>"
      ]
     },
     "metadata": {
      "needs_background": "light"
     },
     "output_type": "display_data"
    }
   ],
   "source": [
    "plotbar(['SMS received','No SMS received'],[sms_came,no_sms_came],[sms_no_come,no_sms_no_come],'Showed_up Did_not_show_up',\"SMS Received?\",\"Number of Appointments\",\"Number of Appointments from an SMS\")"
   ]
  },
  {
   "cell_type": "markdown",
   "id": "fdde23de",
   "metadata": {},
   "source": [
    "**From the look of things, the SMS is not having the desired effects.</br>\n",
    "There is a higher proportion of appointments that did not get an SMS but still came compared to those that got an SMS.**"
   ]
  },
  {
   "cell_type": "markdown",
   "id": "8c4dbf9f",
   "metadata": {},
   "source": [
    "### Limitations\n",
    "<ul>\n",
    "<li>It would have been better if the deatils of the number of SMS received was also included, not 0 and 1.</li>\n",
    "<li>The fact that the Handcap column had many values that are not 0 or 1 was also a limitation.</li>\n",
    "</ul>"
   ]
  },
  {
   "cell_type": "markdown",
   "id": "bdf26000",
   "metadata": {},
   "source": [
    "<a id='conclusions'></a>\n",
    "## Conclusions\n",
    "<ol>\n",
    "  <li>About 80% of appointments were fulfilled while  about 20% was not fulfilled.</li>\n",
    "  <li>Out of 62298 patients, there were 22,253 males and 40,0045 females.</li>\n",
    "  <li>Male and female patients have almost the same proportion of appointments.</li>\n",
    "  <li>The youths (18 - 35years) are the worst at keeping to appointments.</li>\n",
    "  <li>The SMS sending system is not effective.</li>\n",
    "</ol>\n",
    "\n",
    "### What can be done?\n",
    "> Additional research can be done as regards the reason why the SMS sending is not having the desired effects.\n",
    "\n",
    "> More research can be done on why elders (60+ years old) are the best in keeping appointments"
   ]
  },
  {
   "cell_type": "markdown",
   "id": "3af5a136",
   "metadata": {},
   "source": [
    "### References\n",
    "<ul>\n",
    "    <li>geekforgeeks.com</li>\n",
    "    <li>stackoverflow.com</li>\n",
    "    <li>Udacity Reviews</li>\n",
    "</ul>"
   ]
  },
  {
   "cell_type": "code",
   "execution_count": 45,
   "id": "9c4e974f",
   "metadata": {},
   "outputs": [],
   "source": [
    "df[['ScheduledDay', 'AppointmentDay']] = df[['ScheduledDay', 'AppointmentDay']].apply(pd.to_datetime)"
   ]
  },
  {
   "cell_type": "code",
   "execution_count": 46,
   "id": "2561c8ac",
   "metadata": {},
   "outputs": [],
   "source": [
    "df['days_waited']=df['AppointmentDay']-df['ScheduledDay']"
   ]
  },
  {
   "cell_type": "code",
   "execution_count": 47,
   "id": "3c730a5f",
   "metadata": {},
   "outputs": [
    {
     "data": {
      "text/plain": [
       "71533      -7\n",
       "72362      -2\n",
       "64175      -2\n",
       "55226      -2\n",
       "27033      -2\n",
       "         ... \n",
       "102789    178\n",
       "102788    178\n",
       "102786    178\n",
       "102792    178\n",
       "102795    178\n",
       "Name: days_waited, Length: 110526, dtype: int64"
      ]
     },
     "execution_count": 47,
     "metadata": {},
     "output_type": "execute_result"
    }
   ],
   "source": [
    "df['days_waited'].dt.days.astype(np.int64).sort_values()"
   ]
  },
  {
   "cell_type": "code",
   "execution_count": 48,
   "id": "6ba3b4c9",
   "metadata": {},
   "outputs": [],
   "source": [
    "schedule_day = df['ScheduledDay'].dt.day_name()\n",
    "appointment_day=df['AppointmentDay'].dt.day_name()"
   ]
  },
  {
   "cell_type": "code",
   "execution_count": 49,
   "id": "fcb71454",
   "metadata": {},
   "outputs": [
    {
     "data": {
      "text/plain": [
       "<AxesSubplot:>"
      ]
     },
     "execution_count": 49,
     "metadata": {},
     "output_type": "execute_result"
    },
    {
     "data": {
      "image/png": "[encoded data removed]",
      "text/plain": [
       "<Figure size 432x288 with 1 Axes>"
      ]
     },
     "metadata": {
      "needs_background": "light"
     },
     "output_type": "display_data"
    }
   ],
   "source": [
    "schedule_day.value_counts().plot(kind='bar')"
   ]
  },
  {
   "cell_type": "code",
   "execution_count": 50,
   "id": "164a0502",
   "metadata": {},
   "outputs": [
    {
     "data": {
      "text/plain": [
       "<AxesSubplot:>"
      ]
     },
     "execution_count": 50,
     "metadata": {},
     "output_type": "execute_result"
    },
    {
     "data": {
      "image/png": "[encoded data removed]",
      "text/plain": [
       "<Figure size 432x288 with 1 Axes>"
      ]
     },
     "metadata": {
      "needs_background": "light"
     },
     "output_type": "display_data"
    }
   ],
   "source": [
    "appointment_day.value_counts().plot(kind='bar')"
   ]
  },
  {
   "cell_type": "code",
   "execution_count": 51,
   "id": "1b889453",
   "metadata": {},
   "outputs": [
    {
     "data": {
      "text/plain": [
       "Tuesday      0.236759\n",
       "Wednesday    0.219514\n",
       "Monday       0.208856\n",
       "Friday       0.171136\n",
       "Thursday     0.163518\n",
       "Saturday     0.000217\n",
       "Name: ScheduledDay, dtype: float64"
      ]
     },
     "execution_count": 51,
     "metadata": {},
     "output_type": "execute_result"
    }
   ],
   "source": [
    "schedule_day.value_counts(5)"
   ]
  },
  {
   "cell_type": "code",
   "execution_count": 52,
   "id": "0de714bd",
   "metadata": {},
   "outputs": [
    {
     "data": {
      "text/plain": [
       "Wednesday    0.234035\n",
       "Tuesday      0.231982\n",
       "Monday       0.205508\n",
       "Friday       0.172077\n",
       "Thursday     0.156045\n",
       "Saturday     0.000353\n",
       "Name: AppointmentDay, dtype: float64"
      ]
     },
     "execution_count": 52,
     "metadata": {},
     "output_type": "execute_result"
    }
   ],
   "source": [
    "appointment_day.value_counts(5)"
   ]
  },
  {
   "cell_type": "code",
   "execution_count": 53,
   "id": "5bc7ad83",
   "metadata": {},
   "outputs": [],
   "source": [
    "df_show=df[df['No_show']==0]"
   ]
  },
  {
   "cell_type": "code",
   "execution_count": 54,
   "id": "fbf744b0",
   "metadata": {},
   "outputs": [
    {
     "data": {
      "text/html": [
       "<div>\n",
       "<style scoped>\n",
       "    .dataframe tbody tr th:only-of-type {\n",
       "        vertical-align: middle;\n",
       "    }\n",
       "\n",
       "    .dataframe tbody tr th {\n",
       "        vertical-align: top;\n",
       "    }\n",
       "\n",
       "    .dataframe thead th {\n",
       "        text-align: right;\n",
       "    }\n",
       "</style>\n",
       "<table border=\"1\" class=\"dataframe\">\n",
       "  <thead>\n",
       "    <tr style=\"text-align: right;\">\n",
       "      <th></th>\n",
       "      <th>PatientId</th>\n",
       "      <th>AppointmentID</th>\n",
       "      <th>Gender</th>\n",
       "      <th>ScheduledDay</th>\n",
       "      <th>AppointmentDay</th>\n",
       "      <th>Age</th>\n",
       "      <th>Neighbourhood</th>\n",
       "      <th>Scholarship</th>\n",
       "      <th>Hypertension</th>\n",
       "      <th>Diabetes</th>\n",
       "      <th>Alcoholism</th>\n",
       "      <th>Handcap</th>\n",
       "      <th>SMS_received</th>\n",
       "      <th>No_show</th>\n",
       "      <th>days_waited</th>\n",
       "    </tr>\n",
       "  </thead>\n",
       "  <tbody>\n",
       "    <tr>\n",
       "      <th>0</th>\n",
       "      <td>2.987250e+13</td>\n",
       "      <td>5642903</td>\n",
       "      <td>F</td>\n",
       "      <td>2016-04-29 18:38:08+00:00</td>\n",
       "      <td>2016-04-29 00:00:00+00:00</td>\n",
       "      <td>62</td>\n",
       "      <td>JARDIM DA PENHA</td>\n",
       "      <td>0</td>\n",
       "      <td>1</td>\n",
       "      <td>0</td>\n",
       "      <td>0</td>\n",
       "      <td>0</td>\n",
       "      <td>0</td>\n",
       "      <td>0</td>\n",
       "      <td>-1 days +05:21:52</td>\n",
       "    </tr>\n",
       "    <tr>\n",
       "      <th>1</th>\n",
       "      <td>5.589978e+14</td>\n",
       "      <td>5642503</td>\n",
       "      <td>M</td>\n",
       "      <td>2016-04-29 16:08:27+00:00</td>\n",
       "      <td>2016-04-29 00:00:00+00:00</td>\n",
       "      <td>56</td>\n",
       "      <td>JARDIM DA PENHA</td>\n",
       "      <td>0</td>\n",
       "      <td>0</td>\n",
       "      <td>0</td>\n",
       "      <td>0</td>\n",
       "      <td>0</td>\n",
       "      <td>0</td>\n",
       "      <td>0</td>\n",
       "      <td>-1 days +07:51:33</td>\n",
       "    </tr>\n",
       "    <tr>\n",
       "      <th>2</th>\n",
       "      <td>4.262962e+12</td>\n",
       "      <td>5642549</td>\n",
       "      <td>F</td>\n",
       "      <td>2016-04-29 16:19:04+00:00</td>\n",
       "      <td>2016-04-29 00:00:00+00:00</td>\n",
       "      <td>62</td>\n",
       "      <td>MATA DA PRAIA</td>\n",
       "      <td>0</td>\n",
       "      <td>0</td>\n",
       "      <td>0</td>\n",
       "      <td>0</td>\n",
       "      <td>0</td>\n",
       "      <td>0</td>\n",
       "      <td>0</td>\n",
       "      <td>-1 days +07:40:56</td>\n",
       "    </tr>\n",
       "    <tr>\n",
       "      <th>3</th>\n",
       "      <td>8.679512e+11</td>\n",
       "      <td>5642828</td>\n",
       "      <td>F</td>\n",
       "      <td>2016-04-29 17:29:31+00:00</td>\n",
       "      <td>2016-04-29 00:00:00+00:00</td>\n",
       "      <td>8</td>\n",
       "      <td>PONTAL DE CAMBURI</td>\n",
       "      <td>0</td>\n",
       "      <td>0</td>\n",
       "      <td>0</td>\n",
       "      <td>0</td>\n",
       "      <td>0</td>\n",
       "      <td>0</td>\n",
       "      <td>0</td>\n",
       "      <td>-1 days +06:30:29</td>\n",
       "    </tr>\n",
       "    <tr>\n",
       "      <th>4</th>\n",
       "      <td>8.841186e+12</td>\n",
       "      <td>5642494</td>\n",
       "      <td>F</td>\n",
       "      <td>2016-04-29 16:07:23+00:00</td>\n",
       "      <td>2016-04-29 00:00:00+00:00</td>\n",
       "      <td>56</td>\n",
       "      <td>JARDIM DA PENHA</td>\n",
       "      <td>0</td>\n",
       "      <td>1</td>\n",
       "      <td>1</td>\n",
       "      <td>0</td>\n",
       "      <td>0</td>\n",
       "      <td>0</td>\n",
       "      <td>0</td>\n",
       "      <td>-1 days +07:52:37</td>\n",
       "    </tr>\n",
       "    <tr>\n",
       "      <th>...</th>\n",
       "      <td>...</td>\n",
       "      <td>...</td>\n",
       "      <td>...</td>\n",
       "      <td>...</td>\n",
       "      <td>...</td>\n",
       "      <td>...</td>\n",
       "      <td>...</td>\n",
       "      <td>...</td>\n",
       "      <td>...</td>\n",
       "      <td>...</td>\n",
       "      <td>...</td>\n",
       "      <td>...</td>\n",
       "      <td>...</td>\n",
       "      <td>...</td>\n",
       "      <td>...</td>\n",
       "    </tr>\n",
       "    <tr>\n",
       "      <th>110522</th>\n",
       "      <td>2.572134e+12</td>\n",
       "      <td>5651768</td>\n",
       "      <td>F</td>\n",
       "      <td>2016-05-03 09:15:35+00:00</td>\n",
       "      <td>2016-06-07 00:00:00+00:00</td>\n",
       "      <td>56</td>\n",
       "      <td>MARIA ORTIZ</td>\n",
       "      <td>0</td>\n",
       "      <td>0</td>\n",
       "      <td>0</td>\n",
       "      <td>0</td>\n",
       "      <td>0</td>\n",
       "      <td>1</td>\n",
       "      <td>0</td>\n",
       "      <td>34 days 14:44:25</td>\n",
       "    </tr>\n",
       "    <tr>\n",
       "      <th>110523</th>\n",
       "      <td>3.596266e+12</td>\n",
       "      <td>5650093</td>\n",
       "      <td>F</td>\n",
       "      <td>2016-05-03 07:27:33+00:00</td>\n",
       "      <td>2016-06-07 00:00:00+00:00</td>\n",
       "      <td>51</td>\n",
       "      <td>MARIA ORTIZ</td>\n",
       "      <td>0</td>\n",
       "      <td>0</td>\n",
       "      <td>0</td>\n",
       "      <td>0</td>\n",
       "      <td>0</td>\n",
       "      <td>1</td>\n",
       "      <td>0</td>\n",
       "      <td>34 days 16:32:27</td>\n",
       "    </tr>\n",
       "    <tr>\n",
       "      <th>110524</th>\n",
       "      <td>1.557663e+13</td>\n",
       "      <td>5630692</td>\n",
       "      <td>F</td>\n",
       "      <td>2016-04-27 16:03:52+00:00</td>\n",
       "      <td>2016-06-07 00:00:00+00:00</td>\n",
       "      <td>21</td>\n",
       "      <td>MARIA ORTIZ</td>\n",
       "      <td>0</td>\n",
       "      <td>0</td>\n",
       "      <td>0</td>\n",
       "      <td>0</td>\n",
       "      <td>0</td>\n",
       "      <td>1</td>\n",
       "      <td>0</td>\n",
       "      <td>40 days 07:56:08</td>\n",
       "    </tr>\n",
       "    <tr>\n",
       "      <th>110525</th>\n",
       "      <td>9.213493e+13</td>\n",
       "      <td>5630323</td>\n",
       "      <td>F</td>\n",
       "      <td>2016-04-27 15:09:23+00:00</td>\n",
       "      <td>2016-06-07 00:00:00+00:00</td>\n",
       "      <td>38</td>\n",
       "      <td>MARIA ORTIZ</td>\n",
       "      <td>0</td>\n",
       "      <td>0</td>\n",
       "      <td>0</td>\n",
       "      <td>0</td>\n",
       "      <td>0</td>\n",
       "      <td>1</td>\n",
       "      <td>0</td>\n",
       "      <td>40 days 08:50:37</td>\n",
       "    </tr>\n",
       "    <tr>\n",
       "      <th>110526</th>\n",
       "      <td>3.775115e+14</td>\n",
       "      <td>5629448</td>\n",
       "      <td>F</td>\n",
       "      <td>2016-04-27 13:30:56+00:00</td>\n",
       "      <td>2016-06-07 00:00:00+00:00</td>\n",
       "      <td>54</td>\n",
       "      <td>MARIA ORTIZ</td>\n",
       "      <td>0</td>\n",
       "      <td>0</td>\n",
       "      <td>0</td>\n",
       "      <td>0</td>\n",
       "      <td>0</td>\n",
       "      <td>1</td>\n",
       "      <td>0</td>\n",
       "      <td>40 days 10:29:04</td>\n",
       "    </tr>\n",
       "  </tbody>\n",
       "</table>\n",
       "<p>88207 rows × 15 columns</p>\n",
       "</div>"
      ],
      "text/plain": [
       "           PatientId  AppointmentID Gender              ScheduledDay  \\\n",
       "0       2.987250e+13        5642903      F 2016-04-29 18:38:08+00:00   \n",
       "1       5.589978e+14        5642503      M 2016-04-29 16:08:27+00:00   \n",
       "2       4.262962e+12        5642549      F 2016-04-29 16:19:04+00:00   \n",
       "3       8.679512e+11        5642828      F 2016-04-29 17:29:31+00:00   \n",
       "4       8.841186e+12        5642494      F 2016-04-29 16:07:23+00:00   \n",
       "...              ...            ...    ...                       ...   \n",
       "110522  2.572134e+12        5651768      F 2016-05-03 09:15:35+00:00   \n",
       "110523  3.596266e+12        5650093      F 2016-05-03 07:27:33+00:00   \n",
       "110524  1.557663e+13        5630692      F 2016-04-27 16:03:52+00:00   \n",
       "110525  9.213493e+13        5630323      F 2016-04-27 15:09:23+00:00   \n",
       "110526  3.775115e+14        5629448      F 2016-04-27 13:30:56+00:00   \n",
       "\n",
       "                  AppointmentDay  Age      Neighbourhood  Scholarship  \\\n",
       "0      2016-04-29 00:00:00+00:00   62    JARDIM DA PENHA            0   \n",
       "1      2016-04-29 00:00:00+00:00   56    JARDIM DA PENHA            0   \n",
       "2      2016-04-29 00:00:00+00:00   62      MATA DA PRAIA            0   \n",
       "3      2016-04-29 00:00:00+00:00    8  PONTAL DE CAMBURI            0   \n",
       "4      2016-04-29 00:00:00+00:00   56    JARDIM DA PENHA            0   \n",
       "...                          ...  ...                ...          ...   \n",
       "110522 2016-06-07 00:00:00+00:00   56        MARIA ORTIZ            0   \n",
       "110523 2016-06-07 00:00:00+00:00   51        MARIA ORTIZ            0   \n",
       "110524 2016-06-07 00:00:00+00:00   21        MARIA ORTIZ            0   \n",
       "110525 2016-06-07 00:00:00+00:00   38        MARIA ORTIZ            0   \n",
       "110526 2016-06-07 00:00:00+00:00   54        MARIA ORTIZ            0   \n",
       "\n",
       "        Hypertension  Diabetes  Alcoholism  Handcap  SMS_received  No_show  \\\n",
       "0                  1         0           0        0             0        0   \n",
       "1                  0         0           0        0             0        0   \n",
       "2                  0         0           0        0             0        0   \n",
       "3                  0         0           0        0             0        0   \n",
       "4                  1         1           0        0             0        0   \n",
       "...              ...       ...         ...      ...           ...      ...   \n",
       "110522             0         0           0        0             1        0   \n",
       "110523             0         0           0        0             1        0   \n",
       "110524             0         0           0        0             1        0   \n",
       "110525             0         0           0        0             1        0   \n",
       "110526             0         0           0        0             1        0   \n",
       "\n",
       "             days_waited  \n",
       "0      -1 days +05:21:52  \n",
       "1      -1 days +07:51:33  \n",
       "2      -1 days +07:40:56  \n",
       "3      -1 days +06:30:29  \n",
       "4      -1 days +07:52:37  \n",
       "...                  ...  \n",
       "110522  34 days 14:44:25  \n",
       "110523  34 days 16:32:27  \n",
       "110524  40 days 07:56:08  \n",
       "110525  40 days 08:50:37  \n",
       "110526  40 days 10:29:04  \n",
       "\n",
       "[88207 rows x 15 columns]"
      ]
     },
     "execution_count": 54,
     "metadata": {},
     "output_type": "execute_result"
    }
   ],
   "source": [
    "df_show"
   ]
  },
  {
   "cell_type": "code",
   "execution_count": 55,
   "id": "8072ad3a",
   "metadata": {},
   "outputs": [],
   "source": [
    "show_schedule_day = df_show['ScheduledDay'].dt.day_name()\n",
    "show_appointment_day=df_show['AppointmentDay'].dt.day_name()"
   ]
  },
  {
   "cell_type": "code",
   "execution_count": 56,
   "id": "d3e011b3",
   "metadata": {},
   "outputs": [
    {
     "data": {
      "text/plain": [
       "<AxesSubplot:>"
      ]
     },
     "execution_count": 56,
     "metadata": {},
     "output_type": "execute_result"
    },
    {
     "data": {
      "image/png": "[encoded data removed]",
      "text/plain": [
       "<Figure size 432x288 with 1 Axes>"
      ]
     },
     "metadata": {
      "needs_background": "light"
     },
     "output_type": "display_data"
    }
   ],
   "source": [
    "show_appointment_day.value_counts().plot(kind='bar')"
   ]
  },
  {
   "cell_type": "code",
   "execution_count": 57,
   "id": "13106d7b",
   "metadata": {},
   "outputs": [
    {
     "data": {
      "text/plain": [
       "<AxesSubplot:>"
      ]
     },
     "execution_count": 57,
     "metadata": {},
     "output_type": "execute_result"
    },
    {
     "data": {
      "image/png": "[encoded data removed]",
      "text/plain": [
       "<Figure size 432x288 with 1 Axes>"
      ]
     },
     "metadata": {
      "needs_background": "light"
     },
     "output_type": "display_data"
    }
   ],
   "source": [
    "show_schedule_day.value_counts().plot(kind='bar')"
   ]
  },
  {
   "cell_type": "code",
   "execution_count": null,
   "id": "a7602ed5",
   "metadata": {},
   "outputs": [],
   "source": []
  }
 ],
 "metadata": {
  "kernelspec": {
   "display_name": "Python 3 (ipykernel)",
   "language": "python",
   "name": "python3"
  },
  "language_info": {
   "codemirror_mode": {
    "name": "ipython",
    "version": 3
   },
   "file_extension": ".py",
   "mimetype": "text/x-python",
   "name": "python",
   "nbconvert_exporter": "python",
   "pygments_lexer": "ipython3",
   "version": "3.9.7"
  }
 },
 "nbformat": 4,
 "nbformat_minor": 5
}
